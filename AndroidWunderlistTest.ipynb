{
 "cells": [
  {
   "cell_type": "code",
   "execution_count": 1,
   "metadata": {
    "collapsed": true,
    "pycharm": {
     "is_executing": false
    }
   },
   "outputs": [
    {
     "name": "stdout",
     "text": [
      "Collecting Appium-Python-Client\n  Downloading https://files.pythonhosted.org/packages/bb/98/b55d1bf7b218f41fc0cc9c251936716996a1c8eb40c3d4fa343cfffba6c5/Appium-Python-Client-0.46.tar.gz (46kB)\nRequirement already satisfied: selenium<4,>=3.14.1 in c:\\users\\admin\\appdata\\local\\programs\\python\\python37\\lib\\site-packages (from Appium-Python-Client) (3.141.0)\nRequirement already satisfied: urllib3 in c:\\users\\admin\\appdata\\local\\programs\\python\\python37\\lib\\site-packages (from selenium<4,>=3.14.1->Appium-Python-Client) (1.24.3)\nBuilding wheels for collected packages: Appium-Python-Client\n  Building wheel for Appium-Python-Client (setup.py): started\n  Building wheel for Appium-Python-Client (setup.py): finished with status 'done'\n  Stored in directory: C:\\Users\\Admin\\AppData\\Local\\pip\\Cache\\wheels\\7e\\15\\a4\\21bbe432b2806518f8a9b3bf81fc01fea37666c2f8aa81356b\nSuccessfully built Appium-Python-Client\nInstalling collected packages: Appium-Python-Client\nSuccessfully installed Appium-Python-Client-0.46\n"
     ],
     "output_type": "stream"
    },
    {
     "name": "stderr",
     "text": [
      "You are using pip version 19.0.3, however version 19.2.2 is available.\nYou should consider upgrading via the 'python -m pip install --upgrade pip' command.\n"
     ],
     "output_type": "stream"
    }
   ],
   "source": [
    "!pip install Appium-Python-Client"
   ]
  },
  {
   "cell_type": "code",
   "execution_count": 2,
   "outputs": [],
   "source": [
    "import time\n",
    "import unittest\n",
    "\n",
    "from appium import webdriver"
   ],
   "metadata": {
    "collapsed": false,
    "pycharm": {
     "name": "#%%\n",
     "is_executing": false
    }
   }
  },
  {
   "cell_type": "code",
   "execution_count": 17,
   "outputs": [],
   "source": [
    "class AndroidWunderlist(unittest.TestCase):\n",
    "    \"Class to run tests against the ATP WTA app\"\n",
    "    def setUp(self):\n",
    "        \"Setup for the test\"\n",
    "        desired_caps = {'platformName': 'Android', 'platformVersion': '8.0', 'deviceName': 'LLD-AL10', 'appPackage': 'com.wunderkinder.wunderlistandroid', 'appActivity': '.activity.WLMainFragmentActivity'}\n",
    "        # Since the app is already installed launching it using package and activity name\n",
    "        # Adding appWait Activity since the activity name changes as the focus shifts to the ATP WTA app's first page\n",
    "        # desired_caps['appWaitActivity'] = '.activity.root.TournamentList'\n",
    "        self.driver = webdriver.Remote('http://localhost:4723/wd/hub', desired_caps)\n",
    " \n",
    "    def test_wunderlist(self):\n",
    "        \"Testing the ATP WTA app \"\n",
    "        self.driver.implicitly_wait(30)\n",
    "        time.sleep(5)\n",
    " \n",
    "        quick_add_fab=self.driver.find_element_by_xpath(\"//android.widget.ImageButton[@resource-id='com.wunderkinder.wunderlistandroid:id/fab_quick_add']\")\n",
    "        quick_add_fab.click()\n",
    "        \n",
    "        # click on Navigation Bar MainMenu by finding element by xpath\n",
    "        # menubar = self.driver.find_element_by_xpath(\"//android.widget.Spinner[@resource-id='atpwta.live:id/NavBarMainMenuSpinner']\")\n",
    "        # menubar.click()\n",
    " \n",
    "        # From list of options available click on Rankings by finding element using uiautomator\n",
    "        # rankings = self.driver.find_element_by_android_uiautomator('new UiSelector().text(\"Rankings\")')\n",
    "        # rankings.click()\n",
    " \n",
    "        # click on ATP Singles by finding element using id\n",
    "        # singles = self.driver.find_element_by_id('atpwta.live:id/RankingsListItem')\n",
    "        # singles.click()\n",
    " \n",
    "        # Assert that Novak Djokovic is the top listed player\n",
    "        # elmnt = self.driver.find_element_by_id('atpwta.live:id/Player1TV')\n",
    "        # self.assertEqual('Novak Djokovic', elmnt.get_attribute('text'))\n",
    "        # print elmnt.get_attribute('text')\n",
    " \n",
    "        # elmnt = self.driver.find_element_by_xpath(\"//android.widget.LinearLayout[@index=0]\")\n",
    "        # elmnt.click()\n",
    " \n",
    "        # Print the contents of Table listed for the top ranked player\n",
    "        # table = self.driver.find_element_by_android_uiautomator(\"new UiSelector().className(android.widget.TableLayout)\")\n",
    "        # rows = table.find_elements_by_class_name('android.widget.TableRow')\n",
    "        # for i in range(0, len(rows)):\n",
    "        #     cols = rows[i].find_elements_by_class_name('android.widget.TextView')\n",
    "        #     for j in range(0, len(cols)):\n",
    "        #         print(cols[j].get_attribute('text')+\" -- \"),\n",
    "        #     print(\"\")\n",
    "\n",
    "    def tearDown(self):\n",
    "        \"Tear down the test\"\n",
    "        self.driver.quit()\n",
    " "
   ],
   "metadata": {
    "collapsed": false,
    "pycharm": {
     "name": "#%%\n",
     "is_executing": false
    }
   }
  },
  {
   "cell_type": "code",
   "execution_count": 18,
   "outputs": [
    {
     "name": "stderr",
     "text": [
      "\n----------------------------------------------------------------------\nRan 0 tests in 0.000s\n\nOK\n"
     ],
     "output_type": "stream"
    },
    {
     "data": {
      "text/plain": "<unittest.runner.TextTestResult run=0 errors=0 failures=0>"
     },
     "metadata": {},
     "output_type": "execute_result",
     "execution_count": 18
    }
   ],
   "source": [
    "suite = unittest.TestLoader().loadTestsFromTestCase(AndroidWunderlist)\n",
    "unittest.TextTestRunner(verbosity=2).run(suite)\n"
   ],
   "metadata": {
    "collapsed": false,
    "pycharm": {
     "name": "#%%\n",
     "is_executing": false
    }
   }
  }
 ],
 "metadata": {
  "language_info": {
   "codemirror_mode": {
    "name": "ipython",
    "version": 2
   },
   "file_extension": ".py",
   "mimetype": "text/x-python",
   "name": "python",
   "nbconvert_exporter": "python",
   "pygments_lexer": "ipython2",
   "version": "2.7.6"
  },
  "kernelspec": {
   "name": "python3",
   "language": "python",
   "display_name": "Python 3"
  },
  "pycharm": {
   "stem_cell": {
    "cell_type": "raw",
    "source": [],
    "metadata": {
     "collapsed": false
    }
   }
  }
 },
 "nbformat": 4,
 "nbformat_minor": 0
}
